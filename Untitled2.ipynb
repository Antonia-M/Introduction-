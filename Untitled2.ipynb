{
  "nbformat": 4,
  "nbformat_minor": 0,
  "metadata": {
    "colab": {
      "name": "Untitled2.ipynb",
      "provenance": [],
      "authorship_tag": "ABX9TyNE+Uz3E/HkasTtWfEa4p40",
      "include_colab_link": true
    },
    "kernelspec": {
      "name": "python3",
      "display_name": "Python 3"
    },
    "language_info": {
      "name": "python"
    }
  },
  "cells": [
    {
      "cell_type": "markdown",
      "metadata": {
        "id": "view-in-github",
        "colab_type": "text"
      },
      "source": [
        "<a href=\"https://colab.research.google.com/github/Antonia-M/Introduction-/blob/main/Untitled2.ipynb\" target=\"_parent\"><img src=\"https://colab.research.google.com/assets/colab-badge.svg\" alt=\"Open In Colab\"/></a>"
      ]
    },
    {
      "cell_type": "code",
      "metadata": {
        "colab": {
          "base_uri": "https://localhost:8080/"
        },
        "id": "F4qFy8RzJ41x",
        "outputId": "5d851bac-ecc5-46b7-d00a-dd3b2498398e"
      },
      "source": [
        "name = \"Antonia Mwangi\"\n",
        "city = \"Boston\"\n",
        "print()\n",
        "print(\"Name:\", name)\n",
        "print(\"City:\", city)"
      ],
      "execution_count": 2,
      "outputs": [
        {
          "output_type": "stream",
          "text": [
            "\n",
            "Name: Antonia Mwangi\n",
            "City: Boston\n"
          ],
          "name": "stdout"
        }
      ]
    }
  ]
}